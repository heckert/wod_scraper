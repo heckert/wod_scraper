{
 "cells": [
  {
   "cell_type": "code",
   "execution_count": 20,
   "metadata": {},
   "outputs": [],
   "source": [
    "import requests\n",
    "import urllib.request\n",
    "import time\n",
    "import types\n",
    "from bs4 import BeautifulSoup\n",
    "\n",
    "from datetime import datetime"
   ]
  },
  {
   "cell_type": "code",
   "execution_count": null,
   "metadata": {},
   "outputs": [],
   "source": [
    "# Get HTML"
   ]
  },
  {
   "cell_type": "code",
   "execution_count": 2,
   "metadata": {},
   "outputs": [],
   "source": [
    "url = 'https://crossfitarch.com/workout-of-the-day/'"
   ]
  },
  {
   "cell_type": "code",
   "execution_count": 3,
   "metadata": {},
   "outputs": [],
   "source": [
    "response = requests.get(url)"
   ]
  },
  {
   "cell_type": "code",
   "execution_count": 5,
   "metadata": {},
   "outputs": [],
   "source": [
    "soup = BeautifulSoup(response.text, 'html.parser')"
   ]
  },
  {
   "cell_type": "code",
   "execution_count": null,
   "metadata": {},
   "outputs": [],
   "source": [
    "# Compare current week no. with week no on website"
   ]
  },
  {
   "cell_type": "code",
   "execution_count": 6,
   "metadata": {},
   "outputs": [],
   "source": [
    "h1 = soup.find('h1')"
   ]
  },
  {
   "cell_type": "code",
   "execution_count": 7,
   "metadata": {},
   "outputs": [
    {
     "data": {
      "text/plain": [
       "25"
      ]
     },
     "execution_count": 7,
     "metadata": {},
     "output_type": "execute_result"
    }
   ],
   "source": [
    "header_week_no = h1.text.split(' ')[-1]\n",
    "header_week_no = int(header_week_no)\n",
    "header_week_no"
   ]
  },
  {
   "cell_type": "code",
   "execution_count": 9,
   "metadata": {},
   "outputs": [
    {
     "data": {
      "text/plain": [
       "25"
      ]
     },
     "execution_count": 9,
     "metadata": {},
     "output_type": "execute_result"
    }
   ],
   "source": [
    "current_week_no = datetime.today().isocalendar()[1]\n",
    "current_week_no"
   ]
  },
  {
   "cell_type": "code",
   "execution_count": 78,
   "metadata": {},
   "outputs": [
    {
     "data": {
      "text/plain": [
       "True"
      ]
     },
     "execution_count": 78,
     "metadata": {},
     "output_type": "execute_result"
    }
   ],
   "source": [
    "header_week_no == current_week_no"
   ]
  },
  {
   "cell_type": "code",
   "execution_count": null,
   "metadata": {},
   "outputs": [],
   "source": [
    "# parse HTML and read data into dictionary"
   ]
  },
  {
   "cell_type": "code",
   "execution_count": 42,
   "metadata": {},
   "outputs": [],
   "source": [
    "def replace_with_newlines(element):\n",
    "    text = ''\n",
    "    for elem in element.recursiveChildGenerator():\n",
    "        if isinstance(elem, str):\n",
    "            text += elem.strip()\n",
    "        elif elem.name == 'br':\n",
    "            text += '\\n'\n",
    "        elif elem.name == 'strong':\n",
    "            text += '\\n'\n",
    "    return text"
   ]
  },
  {
   "cell_type": "code",
   "execution_count": 77,
   "metadata": {},
   "outputs": [],
   "source": [
    "days = [\"montag\", \"dienstag\", \"mittwoch\", \"donnerstag\", \"freitag\", \"samstag\", \"sonntag\"]\n",
    "workouts = {}\n",
    "\n",
    "for day in days:\n",
    "    day_divs = soup.find(\"div\", {\"id\": day})\n",
    "\n",
    "    content = day_divs.find(\"div\", {'class': 'elementor-text-editor elementor-clearfix'})\n",
    "    full_day = replace_with_newlines(content)\n",
    "    full_day = full_day.strip()\n",
    "    \n",
    "    wod = ''\n",
    "    endurance = ''\n",
    "    last_header = ''\n",
    "\n",
    "    for line in full_day.split('\\n'):\n",
    "        line = line.strip()\n",
    "\n",
    "        if line.upper() == 'WOD' or line.upper() == 'ENDURANCE' or line.upper() == 'BASIC':\n",
    "            last_header = line.upper()\n",
    "\n",
    "        else:\n",
    "            if last_header == 'WOD' and len(line)>0:\n",
    "                wod += line + '\\n'\n",
    "            elif last_header == 'ENDURANCE' and len(line)>0:\n",
    "                endurance += line + '\\n'\n",
    "                \n",
    "    workouts[day.capitalize()] = {\n",
    "        'WOD': wod,\n",
    "        'ENDURANCE': endurance\n",
    "    }"
   ]
  },
  {
   "cell_type": "code",
   "execution_count": 90,
   "metadata": {},
   "outputs": [],
   "source": [
    "mail_content = \"\"\n",
    "\n",
    "for day, exercises in workouts.items():\n",
    "    mail_content += day\n",
    "    mail_content += '\\n\\n'\n",
    "    \n",
    "    for type_, content in exercises.items():\n",
    "        if len(content) > 0:\n",
    "            mail_content += (type_ + '\\n')\n",
    "            mail_content += (content + '\\n')\n",
    "        \n",
    "    mail_content += '\\n'"
   ]
  },
  {
   "cell_type": "code",
   "execution_count": 89,
   "metadata": {},
   "outputs": [],
   "source": [
    "from recipients import recipients\n",
    "from config import pw\n",
    "from email.message import EmailMessage"
   ]
  },
  {
   "cell_type": "code",
   "execution_count": 88,
   "metadata": {},
   "outputs": [
    {
     "data": {
      "text/plain": [
       "(221, b'2.0.0 closing connection w8sm10053536eds.41 - gsmtp')"
      ]
     },
     "execution_count": 88,
     "metadata": {},
     "output_type": "execute_result"
    }
   ],
   "source": [
    "msg = EmailMessage()\n",
    "msg.set_content(mail_content)\n",
    "\n",
    "# me == the sender's email address\n",
    "# you == the recipient's email address\n",
    "msg['Subject'] = f'Workouts KW{header_week_no} jetzt online!'\n",
    "msg['From'] = \"heinzeckert6@gmail.com\"\n",
    "msg['To'] = recipients\n",
    "\n",
    "s = smtplib.SMTP('smtp.gmail.com', 587) \n",
    "s.starttls() \n",
    "s.login(sender, pw) \n",
    "\n",
    "s.send_message(msg)\n",
    "s.quit()"
   ]
  }
 ],
 "metadata": {
  "kernelspec": {
   "display_name": "Python 3",
   "language": "python",
   "name": "python3"
  },
  "language_info": {
   "codemirror_mode": {
    "name": "ipython",
    "version": 3
   },
   "file_extension": ".py",
   "mimetype": "text/x-python",
   "name": "python",
   "nbconvert_exporter": "python",
   "pygments_lexer": "ipython3",
   "version": "3.7.4"
  }
 },
 "nbformat": 4,
 "nbformat_minor": 4
}
