{
 "cells": [
  {
   "cell_type": "code",
   "execution_count": 16,
   "metadata": {},
   "outputs": [],
   "source": [
    "import requests\n",
    "import urllib.request\n",
    "import time\n",
    "from bs4 import BeautifulSoup\n",
    "\n",
    "from datetime import datetime"
   ]
  },
  {
   "cell_type": "code",
   "execution_count": 2,
   "metadata": {},
   "outputs": [],
   "source": [
    "url = 'https://crossfitarch.com/workout-of-the-day/'"
   ]
  },
  {
   "cell_type": "code",
   "execution_count": 3,
   "metadata": {},
   "outputs": [],
   "source": [
    "response = requests.get(url)"
   ]
  },
  {
   "cell_type": "code",
   "execution_count": 4,
   "metadata": {},
   "outputs": [
    {
     "data": {
      "text/plain": [
       "<Response [200]>"
      ]
     },
     "execution_count": 4,
     "metadata": {},
     "output_type": "execute_result"
    }
   ],
   "source": [
    "response"
   ]
  },
  {
   "cell_type": "code",
   "execution_count": 6,
   "metadata": {},
   "outputs": [],
   "source": [
    "soup = BeautifulSoup(response.text, 'html.parser')"
   ]
  },
  {
   "cell_type": "code",
   "execution_count": 11,
   "metadata": {},
   "outputs": [],
   "source": [
    "h1 = soup.find('h1')"
   ]
  },
  {
   "cell_type": "code",
   "execution_count": 20,
   "metadata": {},
   "outputs": [
    {
     "data": {
      "text/plain": [
       "23"
      ]
     },
     "execution_count": 20,
     "metadata": {},
     "output_type": "execute_result"
    }
   ],
   "source": [
    "header_week_no = h1.text.split(' ')[-1]\n",
    "header_week_no = int(header_week_no)\n",
    "header_week_no"
   ]
  },
  {
   "cell_type": "code",
   "execution_count": 17,
   "metadata": {},
   "outputs": [
    {
     "data": {
      "text/plain": [
       "23"
      ]
     },
     "execution_count": 17,
     "metadata": {},
     "output_type": "execute_result"
    }
   ],
   "source": [
    "current_week_no = datetime.today().isocalendar()[1]"
   ]
  },
  {
   "cell_type": "code",
   "execution_count": null,
   "metadata": {},
   "outputs": [],
   "source": []
  },
  {
   "cell_type": "code",
   "execution_count": null,
   "metadata": {},
   "outputs": [],
   "source": []
  },
  {
   "cell_type": "code",
   "execution_count": null,
   "metadata": {},
   "outputs": [],
   "source": []
  },
  {
   "cell_type": "code",
   "execution_count": 13,
   "metadata": {},
   "outputs": [
    {
     "data": {
      "text/plain": [
       "<div class=\"elementor-element elementor-element-51898069 elementor-column elementor-col-33 elementor-inner-column\" data-element_type=\"column\" data-id=\"51898069\" id=\"montag\">\n",
       "<div class=\"elementor-column-wrap elementor-element-populated\">\n",
       "<div class=\"elementor-widget-wrap\">\n",
       "<div class=\"elementor-element elementor-element-ee2e838 elementor-widget elementor-widget-heading\" data-element_type=\"widget\" data-id=\"ee2e838\" data-widget_type=\"heading.default\">\n",
       "<div class=\"elementor-widget-container\">\n",
       "<h5 class=\"elementor-heading-title elementor-size-default\">MONTAG</h5> </div>\n",
       "</div>\n",
       "<div class=\"elementor-element elementor-element-38dd00d elementor-widget elementor-widget-divider\" data-element_type=\"widget\" data-id=\"38dd00d\" data-widget_type=\"divider.default\">\n",
       "<div class=\"elementor-widget-container\">\n",
       "<div class=\"elementor-divider\">\n",
       "<span class=\"elementor-divider-separator\">\n",
       "</span>\n",
       "</div>\n",
       "</div>\n",
       "</div>\n",
       "<div class=\"elementor-element elementor-element-0d8a0bb elementor-widget elementor-widget-text-editor\" data-element_type=\"widget\" data-id=\"0d8a0bb\" data-widget_type=\"text-editor.default\">\n",
       "<div class=\"elementor-widget-container\">\n",
       "<div class=\"elementor-text-editor elementor-clearfix\"><p><strong>WOD</strong><br><strong>strength</strong><br/>10′ emom:<br/>-10-12 bent over db/kb row @2010<br/>-10-12 db/kb floor press @2010</br></p><p><strong>metcon</strong><br/>5 rounds of 3′ on/1′ off:<br/>-28 double unders<br/>-14 db snatches<br/>-7 pull ups/ring rows<br/><em>try to hit the same amount of rounds and reps every set</em></p><p><strong>BASIC<br/></strong>modul I – squats<strong><br/></strong></p><p><strong><span data-sheets-userformat=\"{\" data-sheets-value=\"{\">ENDURANCE<br/></span></strong>2 groups<br/>2x 15′ amrap each group<br/>group 1<br/>-12/10 cal erg<br/>-12 burpees<br/>-12 kb swings<br/>-12 russian twists<br/><em><br/>5′ rest (clean and switch working stations)<br/></em><br/>group 2<br/>15′ amrap<br/>-12 db snatch<br/>-12 push ups<br/>-12 box jumps<br/>-12 sit-ups<strong><br/></strong></p></div>\n",
       "</div>\n",
       "</div>\n",
       "</div>\n",
       "</div>\n",
       "</div>"
      ]
     },
     "execution_count": 13,
     "metadata": {},
     "output_type": "execute_result"
    }
   ],
   "source": [
    "soup.find(\"div\", {\"id\": \"montag\"})"
   ]
  }
 ],
 "metadata": {
  "kernelspec": {
   "display_name": "Python 3",
   "language": "python",
   "name": "python3"
  },
  "language_info": {
   "codemirror_mode": {
    "name": "ipython",
    "version": 3
   },
   "file_extension": ".py",
   "mimetype": "text/x-python",
   "name": "python",
   "nbconvert_exporter": "python",
   "pygments_lexer": "ipython3",
   "version": "3.7.4"
  }
 },
 "nbformat": 4,
 "nbformat_minor": 4
}
